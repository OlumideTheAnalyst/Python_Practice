{
 "cells": [
  {
   "cell_type": "markdown",
   "id": "ca0819c5",
   "metadata": {},
   "source": [
    "if condition:\n",
    "    print()\n",
    "else another condition:\n",
    "    print()"
   ]
  },
  {
   "cell_type": "code",
   "execution_count": 1,
   "id": "bb4ff66b",
   "metadata": {},
   "outputs": [
    {
     "data": {
      "text/plain": [
       "False"
      ]
     },
     "execution_count": 1,
     "metadata": {},
     "output_type": "execute_result"
    }
   ],
   "source": [
    "5 > 6"
   ]
  },
  {
   "cell_type": "code",
   "execution_count": 2,
   "id": "a9eb971d",
   "metadata": {},
   "outputs": [
    {
     "name": "stdout",
     "output_type": "stream",
     "text": [
      "Hey\n"
     ]
    }
   ],
   "source": [
    "if 5 > 6:\n",
    "    print(\"Hurray\")\n",
    "else:\n",
    "    print(\"Hey\")"
   ]
  },
  {
   "cell_type": "code",
   "execution_count": 2,
   "id": "ce8c9cf3",
   "metadata": {},
   "outputs": [],
   "source": [
    "cgpa = 1.5\n",
    "credits = 1000"
   ]
  },
  {
   "cell_type": "markdown",
   "id": "2fb190db",
   "metadata": {},
   "source": [
    "if condition:\n",
    "    print()\n",
    "elif another condtion:\n",
    "    print()\n",
    "elif another condition:\n",
    "    print()\n",
    "else another condition:\n",
    "    print()\n"
   ]
  },
  {
   "cell_type": "code",
   "execution_count": 3,
   "id": "bcac0d34",
   "metadata": {},
   "outputs": [
    {
     "name": "stdout",
     "output_type": "stream",
     "text": [
      "Sorry you do not qualify!\n"
     ]
    }
   ],
   "source": [
    "if (cgpa >= 2.5) and (credits >= 200):\n",
    "    print(\"Qualified to Graduate\")\n",
    "elif (cgpa >= 2.5):\n",
    "    print(\"Temporary Consideration to Graduate\")\n",
    "else:\n",
    "    print(\"Sorry you do not qualify!\")"
   ]
  },
  {
   "cell_type": "code",
   "execution_count": 5,
   "id": "3adf75b1",
   "metadata": {},
   "outputs": [],
   "source": [
    "accounts = [500, 600, 800, 900]"
   ]
  },
  {
   "cell_type": "code",
   "execution_count": null,
   "id": "c9c10766",
   "metadata": {},
   "outputs": [],
   "source": [
    "# For Loops"
   ]
  },
  {
   "cell_type": "code",
   "execution_count": 8,
   "id": "f0b2795b",
   "metadata": {},
   "outputs": [
    {
     "name": "stdout",
     "output_type": "stream",
     "text": [
      "600\n",
      "700\n",
      "900\n",
      "1000\n"
     ]
    }
   ],
   "source": [
    "for customers in accounts:\n",
    "    print(customers + 100)"
   ]
  },
  {
   "cell_type": "code",
   "execution_count": 9,
   "id": "18e2c44b",
   "metadata": {},
   "outputs": [
    {
     "data": {
      "text/plain": [
       "[500, 600, 800, 900]"
      ]
     },
     "execution_count": 9,
     "metadata": {},
     "output_type": "execute_result"
    }
   ],
   "source": [
    "accounts"
   ]
  },
  {
   "cell_type": "code",
   "execution_count": 18,
   "id": "9dee6611",
   "metadata": {},
   "outputs": [
    {
     "name": "stdout",
     "output_type": "stream",
     "text": [
      "500\n",
      "600\n",
      "800\n",
      "900\n"
     ]
    }
   ],
   "source": [
    "for customers in accounts:\n",
    "    print(customers)"
   ]
  },
  {
   "cell_type": "code",
   "execution_count": 14,
   "id": "71c231dc",
   "metadata": {},
   "outputs": [],
   "source": [
    "dogs = ['french bulldog', 'poddle', 'damashian']"
   ]
  },
  {
   "cell_type": "code",
   "execution_count": 17,
   "id": "f1648aa7",
   "metadata": {},
   "outputs": [
    {
     "name": "stdout",
     "output_type": "stream",
     "text": [
      "french bulldog\n",
      "poddle\n",
      "damashian\n"
     ]
    }
   ],
   "source": [
    "for something in dogs:\n",
    "    print(something)"
   ]
  },
  {
   "cell_type": "code",
   "execution_count": 19,
   "id": "fcf30d4c",
   "metadata": {},
   "outputs": [
    {
     "data": {
      "text/plain": [
       "1"
      ]
     },
     "execution_count": 19,
     "metadata": {},
     "output_type": "execute_result"
    }
   ],
   "source": [
    "33 % 2"
   ]
  },
  {
   "cell_type": "code",
   "execution_count": 20,
   "id": "4768cdcc",
   "metadata": {},
   "outputs": [
    {
     "data": {
      "text/plain": [
       "0"
      ]
     },
     "execution_count": 20,
     "metadata": {},
     "output_type": "execute_result"
    }
   ],
   "source": [
    "24 % 2"
   ]
  },
  {
   "cell_type": "code",
   "execution_count": 21,
   "id": "ff3d7d14",
   "metadata": {},
   "outputs": [
    {
     "data": {
      "text/plain": [
       "1"
      ]
     },
     "execution_count": 21,
     "metadata": {},
     "output_type": "execute_result"
    }
   ],
   "source": [
    "77 % 2"
   ]
  },
  {
   "cell_type": "code",
   "execution_count": 22,
   "id": "99752a69",
   "metadata": {},
   "outputs": [
    {
     "data": {
      "text/plain": [
       "0"
      ]
     },
     "execution_count": 22,
     "metadata": {},
     "output_type": "execute_result"
    }
   ],
   "source": [
    "100 % 2"
   ]
  },
  {
   "cell_type": "code",
   "execution_count": 30,
   "id": "0d1c9017",
   "metadata": {},
   "outputs": [],
   "source": [
    "i = [5, 17, 24, 81, 10, 19, 100]\n",
    "    "
   ]
  },
  {
   "cell_type": "code",
   "execution_count": 35,
   "id": "932acefe",
   "metadata": {},
   "outputs": [
    {
     "name": "stdout",
     "output_type": "stream",
     "text": [
      "5\n",
      "17\n",
      "24\n",
      "81\n",
      "10\n",
      "19\n",
      "100\n"
     ]
    }
   ],
   "source": [
    "for num in i:\n",
    "    print(num)"
   ]
  },
  {
   "cell_type": "code",
   "execution_count": null,
   "id": "ba0f9686",
   "metadata": {},
   "outputs": [],
   "source": []
  }
 ],
 "metadata": {
  "kernelspec": {
   "display_name": "Python 3",
   "language": "python",
   "name": "python3"
  },
  "language_info": {
   "codemirror_mode": {
    "name": "ipython",
    "version": 3
   },
   "file_extension": ".py",
   "mimetype": "text/x-python",
   "name": "python",
   "nbconvert_exporter": "python",
   "pygments_lexer": "ipython3",
   "version": "3.8.8"
  }
 },
 "nbformat": 4,
 "nbformat_minor": 5
}
